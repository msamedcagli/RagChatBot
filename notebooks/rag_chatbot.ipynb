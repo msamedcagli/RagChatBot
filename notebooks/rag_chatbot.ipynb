{
 "cells": [
  {
   "cell_type": "code",
   "execution_count": 9,
   "id": "266a0cfa",
   "metadata": {},
   "outputs": [
    {
     "name": "stdout",
     "output_type": "stream",
     "text": [
      "📦 Gerekli kütüphaneler yükleniyor...\n",
      "✅ Kütüphaneler yüklendi!\n"
     ]
    }
   ],
   "source": [
    "# ============================================================================\n",
    "# BÖLÜM 1: KÜTÜPHANE YÜKLEMELERİ VE KURULUM\n",
    "# ============================================================================\n",
    "\n",
    "print(\"📦 Gerekli kütüphaneler yükleniyor...\")\n",
    "\n",
    "# Temel kütüphaneler\n",
    "import os\n",
    "from dotenv import load_dotenv\n",
    "import google.generativeai as genai\n",
    "\n",
    "# PDF işleme\n",
    "from PyPDF2 import PdfReader\n",
    "\n",
    "# Text processing\n",
    "from langchain.text_splitter import RecursiveCharacterTextSplitter\n",
    "from langchain_google_genai import GoogleGenerativeAIEmbeddings\n",
    "\n",
    "# Vector database\n",
    "import chromadb\n",
    "from chromadb.config import Settings\n",
    "\n",
    "from langchain.embeddings import OpenAIEmbeddings\n",
    "from langchain_community.embeddings import HuggingFaceEmbeddings\n",
    "\n",
    "# Utilities\n",
    "import numpy as np\n",
    "from tqdm import tqdm\n",
    "import json\n",
    "\n",
    "print(\"✅ Kütüphaneler yüklendi!\")"
   ]
  },
  {
   "cell_type": "code",
   "execution_count": 4,
   "id": "0b414226",
   "metadata": {},
   "outputs": [
    {
     "name": "stdout",
     "output_type": "stream",
     "text": [
      "\n",
      "🔑 API anahtarı yükleniyor...\n",
      "✅ API anahtarı yüklendi!\n",
      "🔐 API Key (ilk 10 karakter): AIzaSyDGYP...\n"
     ]
    }
   ],
   "source": [
    "# ============================================================================\n",
    "# BÖLÜM 2: ÇEVRE DEĞİŞKENLERİ VE API AYARLARI\n",
    "# ============================================================================\n",
    "\n",
    "print(\"\\n🔑 API anahtarı yükleniyor...\")\n",
    "\n",
    "# .env dosyasından API key'i yükle\n",
    "load_dotenv()\n",
    "GEMINI_API_KEY = os.getenv(\"GEMINI_API_KEY\")\n",
    "\n",
    "if not GEMINI_API_KEY:\n",
    "    raise ValueError(\"❌ GEMINI_API_KEY bulunamadı! .env dosyanızı kontrol edin.\")\n",
    "\n",
    "# Gemini API'yi yapılandır\n",
    "genai.configure(api_key=GEMINI_API_KEY)\n",
    "\n",
    "print(\"✅ API anahtarı yüklendi!\")\n",
    "print(f\"🔐 API Key (ilk 10 karakter): {GEMINI_API_KEY[:10]}...\")"
   ]
  },
  {
   "cell_type": "code",
   "execution_count": 5,
   "id": "833e47f7",
   "metadata": {},
   "outputs": [
    {
     "name": "stdout",
     "output_type": "stream",
     "text": [
      "\n",
      "📄 PDF belgesi okunuyor...\n",
      "📖 Toplam sayfa sayısı: 259\n"
     ]
    },
    {
     "name": "stderr",
     "output_type": "stream",
     "text": [
      "Sayfalar okunuyor: 100%|██████████| 259/259 [00:19<00:00, 13.38it/s]"
     ]
    },
    {
     "name": "stdout",
     "output_type": "stream",
     "text": [
      "\n",
      "✅ PDF başarıyla okundu!\n",
      "📊 Toplam karakter sayısı: 714,440\n",
      "📊 Toplam kelime sayısı: 86,220\n",
      "\n",
      "📝 İlk 500 karakter:\n",
      "0 \n",
      "    \n",
      " 1 TAKDİM  \n",
      " \n",
      "Ülkemizin  sosyo -ekonomik  gelişmişlik  seviyesini  topyekûn  artırma  hedefi  doğrultusunda  Sayın  \n",
      "Cumhurbaşkanımızın  liderliğinde  Millî  Teknoloji  Hamlesi  ile yüksek  teknolojili  ve katma  değerli  üretimi  \n",
      "destekliyoruz.  Küresel  rekabet  gücümüzü  yükseltecek,  ekonomik  ve teknolojik  bağımsızlığımızı  \n",
      "güçlendirecek  adımlar  atıyoruz.  Diğer  yandan  da Yerel  Kalkınma  Hamlesi  ile 81 ilimizin  potansiyelini  ve \n",
      "yetkinliklerini  harekete  geçirecek  polit\n"
     ]
    },
    {
     "name": "stderr",
     "output_type": "stream",
     "text": [
      "\n"
     ]
    }
   ],
   "source": [
    "# ============================================================================\n",
    "# BÖLÜM 3: PDF OKUMA VE METİN ÇIKARMA\n",
    "# ============================================================================\n",
    "\n",
    "print(\"\\n📄 PDF belgesi okunuyor...\")\n",
    "\n",
    "PDF_PATH = \"../Data/2024-2028-İstanbul-bölge-planı-taslak.pdf\"\n",
    "\n",
    "def extract_text_from_pdf(pdf_path):\n",
    "    \"\"\"PDF dosyasından metin çıkarır\"\"\"\n",
    "    try:\n",
    "        reader = PdfReader(pdf_path)\n",
    "        text = \"\"\n",
    "        \n",
    "        print(f\"📖 Toplam sayfa sayısı: {len(reader.pages)}\")\n",
    "        \n",
    "        for i, page in enumerate(tqdm(reader.pages, desc=\"Sayfalar okunuyor\")):\n",
    "            text += page.extract_text()\n",
    "        \n",
    "        return text\n",
    "    except Exception as e:\n",
    "        print(f\"❌ PDF okuma hatası: {e}\")\n",
    "        return None\n",
    "\n",
    "# PDF'i oku\n",
    "raw_text = extract_text_from_pdf(PDF_PATH)\n",
    "\n",
    "if raw_text:\n",
    "    print(f\"\\n✅ PDF başarıyla okundu!\")\n",
    "    print(f\"📊 Toplam karakter sayısı: {len(raw_text):,}\")\n",
    "    print(f\"📊 Toplam kelime sayısı: {len(raw_text.split()):,}\")\n",
    "    print(f\"\\n📝 İlk 500 karakter:\\n{raw_text[:500]}\")\n",
    "else:\n",
    "    raise ValueError(\"❌ PDF okunamadı!\")"
   ]
  },
  {
   "cell_type": "code",
   "execution_count": 6,
   "id": "33a181f7",
   "metadata": {},
   "outputs": [
    {
     "name": "stdout",
     "output_type": "stream",
     "text": [
      "\n",
      "✂️ Metin parçalara bölünüyor...\n",
      "✅ Metin bölümlendi!\n",
      "📊 Toplam chunk sayısı: 875\n",
      "📊 Ortalama chunk uzunluğu: 948 karakter\n",
      "\n",
      "📝 İlk chunk örneği:\n",
      "0 \n",
      "    \n",
      " 1 TAKDİM  \n",
      " \n",
      "Ülkemizin  sosyo -ekonomik  gelişmişlik  seviyesini  topyekûn  artırma  hedefi  doğrultusunda  Sayın  \n",
      "Cumhurbaşkanımızın  liderliğinde  Millî  Teknoloji  Hamlesi  ile yüksek  teknolojili  ve katma  değerli  üretimi  \n",
      "destekliyoruz.  Küresel  rekabet  gücümüzü  yükseltecek,  ekonomik  ve teknolojik  bağımsızlığımızı  \n",
      "güçlendirecek  adımlar  atıyoruz.  Diğer  yandan  da Yerel  Kalkınma  Hamlesi  ile 81 ilimizin  potansiyelini  ve \n",
      "yetkinliklerini  harekete  geçirecek  politikalarla  birlikte  tüm bölgelerimizin  bu yolculuğa  azami  katkıyı  \n",
      "sunmasına  yönelik  program  ve projeleri  hayata  geçiriyoruz.  \n",
      "Küresel  değer  zincirleriyle  ilişkiler,  üretim  yapısı,  dış ticaret  düzeyi,  girişimcilik  kapasitesi,  Ar-Ge ve yenilik  \n",
      "performansı  ve diğer  illerle  sosyo -ekonomik  ilişkiler  açısından  illerimiz  ayrışmaktadır.  İstanbul,  Ankara,\n"
     ]
    }
   ],
   "source": [
    "# ============================================================================\n",
    "# BÖLÜM 4: METİN BÖLÜMLEME (CHUNKING)\n",
    "# ============================================================================\n",
    "\n",
    "print(\"\\n✂️ Metin parçalara bölünüyor...\")\n",
    "\n",
    "# RecursiveCharacterTextSplitter ile metni böl\n",
    "text_splitter = RecursiveCharacterTextSplitter(\n",
    "    chunk_size=1000,        # Her chunk 1000 karakter\n",
    "    chunk_overlap=200,      # Chunk'lar arası 200 karakter örtüşme\n",
    "    length_function=len,\n",
    "    separators=[\"\\n\\n\", \"\\n\", \" \", \"\"]\n",
    ")\n",
    "\n",
    "chunks = text_splitter.split_text(raw_text)\n",
    "\n",
    "print(f\"✅ Metin bölümlendi!\")\n",
    "print(f\"📊 Toplam chunk sayısı: {len(chunks)}\")\n",
    "print(f\"📊 Ortalama chunk uzunluğu: {sum(len(c) for c in chunks) // len(chunks)} karakter\")\n",
    "print(f\"\\n📝 İlk chunk örneği:\\n{chunks[0]}\")"
   ]
  },
  {
   "cell_type": "code",
   "execution_count": 12,
   "id": "2bb445d5",
   "metadata": {},
   "outputs": [
    {
     "name": "stdout",
     "output_type": "stream",
     "text": [
      "\n",
      "🧠 Embedding'ler oluşturuluyor...\n",
      "WARNING:tensorflow:From c:\\Users\\ozanm\\AppData\\Local\\Programs\\Python\\Python313\\Lib\\site-packages\\tf_keras\\src\\losses.py:2976: The name tf.losses.sparse_softmax_cross_entropy is deprecated. Please use tf.compat.v1.losses.sparse_softmax_cross_entropy instead.\n",
      "\n"
     ]
    },
    {
     "data": {
      "application/vnd.jupyter.widget-view+json": {
       "model_id": "8fc85943ee444c209fe6e655e2c9a8d6",
       "version_major": 2,
       "version_minor": 0
      },
      "text/plain": [
       "modules.json:   0%|          | 0.00/349 [00:00<?, ?B/s]"
      ]
     },
     "metadata": {},
     "output_type": "display_data"
    },
    {
     "name": "stderr",
     "output_type": "stream",
     "text": [
      "c:\\Users\\ozanm\\AppData\\Local\\Programs\\Python\\Python313\\Lib\\site-packages\\huggingface_hub\\file_download.py:143: UserWarning: `huggingface_hub` cache-system uses symlinks by default to efficiently store duplicated files but your machine does not support them in C:\\Users\\ozanm\\.cache\\huggingface\\hub\\models--sentence-transformers--all-MiniLM-L6-v2. Caching files will still work but in a degraded version that might require more space on your disk. This warning can be disabled by setting the `HF_HUB_DISABLE_SYMLINKS_WARNING` environment variable. For more details, see https://huggingface.co/docs/huggingface_hub/how-to-cache#limitations.\n",
      "To support symlinks on Windows, you either need to activate Developer Mode or to run Python as an administrator. In order to activate developer mode, see this article: https://docs.microsoft.com/en-us/windows/apps/get-started/enable-your-device-for-development\n",
      "  warnings.warn(message)\n"
     ]
    },
    {
     "data": {
      "application/vnd.jupyter.widget-view+json": {
       "model_id": "e07cc3a871ca4d588f0792d4b1e9d4ee",
       "version_major": 2,
       "version_minor": 0
      },
      "text/plain": [
       "config_sentence_transformers.json:   0%|          | 0.00/116 [00:00<?, ?B/s]"
      ]
     },
     "metadata": {},
     "output_type": "display_data"
    },
    {
     "data": {
      "application/vnd.jupyter.widget-view+json": {
       "model_id": "b9aef6e75c094b228b676b8a9f4787b7",
       "version_major": 2,
       "version_minor": 0
      },
      "text/plain": [
       "README.md: 0.00B [00:00, ?B/s]"
      ]
     },
     "metadata": {},
     "output_type": "display_data"
    },
    {
     "data": {
      "application/vnd.jupyter.widget-view+json": {
       "model_id": "83fa5cb3b0a54023936f20e7a0ccc06b",
       "version_major": 2,
       "version_minor": 0
      },
      "text/plain": [
       "sentence_bert_config.json:   0%|          | 0.00/53.0 [00:00<?, ?B/s]"
      ]
     },
     "metadata": {},
     "output_type": "display_data"
    },
    {
     "data": {
      "application/vnd.jupyter.widget-view+json": {
       "model_id": "86286432bca54531a7070e1e66d2a3ab",
       "version_major": 2,
       "version_minor": 0
      },
      "text/plain": [
       "config.json:   0%|          | 0.00/612 [00:00<?, ?B/s]"
      ]
     },
     "metadata": {},
     "output_type": "display_data"
    },
    {
     "name": "stderr",
     "output_type": "stream",
     "text": [
      "Xet Storage is enabled for this repo, but the 'hf_xet' package is not installed. Falling back to regular HTTP download. For better performance, install the package with: `pip install huggingface_hub[hf_xet]` or `pip install hf_xet`\n"
     ]
    },
    {
     "data": {
      "application/vnd.jupyter.widget-view+json": {
       "model_id": "97bb404a28514fc2bd5e7bc061e2ffcc",
       "version_major": 2,
       "version_minor": 0
      },
      "text/plain": [
       "model.safetensors:   0%|          | 0.00/90.9M [00:00<?, ?B/s]"
      ]
     },
     "metadata": {},
     "output_type": "display_data"
    },
    {
     "data": {
      "application/vnd.jupyter.widget-view+json": {
       "model_id": "cd1183cf2e38402da1ba38401bb226e7",
       "version_major": 2,
       "version_minor": 0
      },
      "text/plain": [
       "tokenizer_config.json:   0%|          | 0.00/350 [00:00<?, ?B/s]"
      ]
     },
     "metadata": {},
     "output_type": "display_data"
    },
    {
     "data": {
      "application/vnd.jupyter.widget-view+json": {
       "model_id": "3e3fec6120da4f28adee95d6537e491e",
       "version_major": 2,
       "version_minor": 0
      },
      "text/plain": [
       "vocab.txt: 0.00B [00:00, ?B/s]"
      ]
     },
     "metadata": {},
     "output_type": "display_data"
    },
    {
     "data": {
      "application/vnd.jupyter.widget-view+json": {
       "model_id": "38f00ac2796a4d179633a95789a90607",
       "version_major": 2,
       "version_minor": 0
      },
      "text/plain": [
       "tokenizer.json: 0.00B [00:00, ?B/s]"
      ]
     },
     "metadata": {},
     "output_type": "display_data"
    },
    {
     "data": {
      "application/vnd.jupyter.widget-view+json": {
       "model_id": "68ca9d31743c46be829a48f309cbeb6a",
       "version_major": 2,
       "version_minor": 0
      },
      "text/plain": [
       "special_tokens_map.json:   0%|          | 0.00/112 [00:00<?, ?B/s]"
      ]
     },
     "metadata": {},
     "output_type": "display_data"
    },
    {
     "data": {
      "application/vnd.jupyter.widget-view+json": {
       "model_id": "5161404d5c774e86ab3e881fc016e875",
       "version_major": 2,
       "version_minor": 0
      },
      "text/plain": [
       "config.json:   0%|          | 0.00/190 [00:00<?, ?B/s]"
      ]
     },
     "metadata": {},
     "output_type": "display_data"
    },
    {
     "name": "stdout",
     "output_type": "stream",
     "text": [
      "✅ Embedding modeli hazır!\n",
      "📦 Model: embedding-001\n",
      "📊 Embedding boyutu: 384\n"
     ]
    }
   ],
   "source": [
    "# ============================================================================\n",
    "# BÖLÜM 5: EMBEDDİNG OLUŞTURMA\n",
    "# ============================================================================\n",
    "\n",
    "print(\"\\n🧠 Embedding'ler oluşturuluyor...\")\n",
    "\n",
    "embedding_model = HuggingFaceEmbeddings(model_name=\"sentence-transformers/all-MiniLM-L6-v2\")\n",
    "\n",
    "\n",
    "print(\"✅ Embedding modeli hazır!\")\n",
    "print(f\"📦 Model: embedding-001\")\n",
    "\n",
    "# Test embedding\n",
    "test_embedding = embedding_model.embed_query(\"İstanbul bölge planı\")\n",
    "print(f\"📊 Embedding boyutu: {len(test_embedding)}\")"
   ]
  },
  {
   "cell_type": "code",
   "execution_count": 13,
   "id": "0c5b0333",
   "metadata": {},
   "outputs": [
    {
     "name": "stdout",
     "output_type": "stream",
     "text": [
      "\n",
      "💾 Vector database oluşturuluyor...\n",
      "✅ ChromaDB koleksiyonu oluşturuldu!\n"
     ]
    }
   ],
   "source": [
    "print(\"\\n💾 Vector database oluşturuluyor...\")\n",
    "\n",
    "# ChromaDB client oluştur\n",
    "chroma_client = chromadb.Client(Settings(\n",
    "    anonymized_telemetry=False,\n",
    "    allow_reset=True\n",
    "))\n",
    "\n",
    "# Koleksiyon oluştur (varsa sil)\n",
    "try:\n",
    "    chroma_client.delete_collection(\"istanbul_bolge_plani\")\n",
    "except:\n",
    "    pass\n",
    "\n",
    "collection = chroma_client.create_collection(\n",
    "    name=\"istanbul_bolge_plani\",\n",
    "    metadata={\"description\": \"2024-2028 İstanbul Bölge Planı RAG Database\"}\n",
    ")\n",
    "\n",
    "print(\"✅ ChromaDB koleksiyonu oluşturuldu!\")"
   ]
  },
  {
   "cell_type": "code",
   "execution_count": 14,
   "id": "a23bf79a",
   "metadata": {},
   "outputs": [
    {
     "name": "stdout",
     "output_type": "stream",
     "text": [
      "\n",
      "⬆️ Chunk'lar vector database'e ekleniyor...\n"
     ]
    },
    {
     "name": "stderr",
     "output_type": "stream",
     "text": [
      "Batch'ler ekleniyor: 100%|██████████| 88/88 [01:26<00:00,  1.02it/s]"
     ]
    },
    {
     "name": "stdout",
     "output_type": "stream",
     "text": [
      "✅ Toplam 875 chunk eklendi!\n",
      "📊 Koleksiyon boyutu: 875\n"
     ]
    },
    {
     "name": "stderr",
     "output_type": "stream",
     "text": [
      "\n"
     ]
    }
   ],
   "source": [
    "# ============================================================================\n",
    "# BÖLÜM 7: CHUNK'LARI VECTOR DB'YE EKLEME\n",
    "# ============================================================================\n",
    "\n",
    "print(\"\\n⬆️ Chunk'lar vector database'e ekleniyor...\")\n",
    "\n",
    "batch_size = 10\n",
    "for i in tqdm(range(0, len(chunks), batch_size), desc=\"Batch'ler ekleniyor\"):\n",
    "    batch_chunks = chunks[i:i+batch_size]\n",
    "    \n",
    "    # Her chunk için embedding oluştur\n",
    "    embeddings = [embedding_model.embed_query(chunk) for chunk in batch_chunks]\n",
    "    \n",
    "    # ChromaDB'ye ekle\n",
    "    collection.add(\n",
    "        embeddings=embeddings,\n",
    "        documents=batch_chunks,\n",
    "        ids=[f\"chunk_{j}\" for j in range(i, i+len(batch_chunks))]\n",
    "    )\n",
    "\n",
    "print(f\"✅ Toplam {len(chunks)} chunk eklendi!\")\n",
    "print(f\"📊 Koleksiyon boyutu: {collection.count()}\")"
   ]
  },
  {
   "cell_type": "code",
   "execution_count": 15,
   "id": "a26df2b4",
   "metadata": {},
   "outputs": [
    {
     "name": "stdout",
     "output_type": "stream",
     "text": [
      "\n",
      "🔍 RAG Pipeline oluşturuluyor...\n",
      "✅ RAG Pipeline hazır!\n",
      "💡 İpucu: use_api=False parametresi ile API olmadan çalışabilirsiniz\n"
     ]
    }
   ],
   "source": [
    "# ============================================================================\n",
    "# BÖLÜM 8: RAG PIPELINE - SORGULAMA FONKSİYONU\n",
    "# ============================================================================\n",
    "\n",
    "print(\"\\n🔍 RAG Pipeline oluşturuluyor...\")\n",
    "\n",
    "def retrieve_relevant_chunks(query, n_results=5):\n",
    "    \"\"\"Sorguya en yakın chunk'ları getirir\"\"\"\n",
    "    \n",
    "    # Query için embedding oluştur\n",
    "    query_embedding = embedding_model.embed_query(query)\n",
    "    \n",
    "    # ChromaDB'den en yakın chunk'ları al\n",
    "    results = collection.query(\n",
    "        query_embeddings=[query_embedding],\n",
    "        n_results=n_results\n",
    "    )\n",
    "    \n",
    "    return results['documents'][0], results['ids'][0]\n",
    "\n",
    "def generate_answer_with_gemini(query, context_chunks):\n",
    "    \"\"\"Gemini API ile cevap üretir\"\"\"\n",
    "    \n",
    "    # Context'i birleştir\n",
    "    context = \"\\n\\n\".join(context_chunks)\n",
    "    \n",
    "    # Prompt oluştur\n",
    "    prompt = f\"\"\"Sen İstanbul Bölge Planı uzmanı bir asistansın. Aşağıdaki belgeden alınan bilgilere dayanarak soruyu cevapla.\n",
    "\n",
    "BELGE İÇERİĞİ:\n",
    "{context}\n",
    "\n",
    "SORU: {query}\n",
    "\n",
    "CEVAP: Lütfen soruyu belge içeriğine dayanarak detaylı bir şekilde cevapla. Eğer bilgi belgede yoksa, bunu belirt.\"\"\"\n",
    "    \n",
    "    try:\n",
    "        # Gemini modeli oluştur\n",
    "        model = genai.GenerativeModel('gemini-1.5-flash')\n",
    "        \n",
    "        # Cevap üret\n",
    "        response = model.generate_content(prompt)\n",
    "        return response.text\n",
    "    except Exception as e:\n",
    "        print(f\"⚠️ Gemini API hatası: {e}\")\n",
    "        return generate_answer_local(query, context_chunks)\n",
    "\n",
    "def generate_answer_local(query, context_chunks):\n",
    "    \"\"\"Yerel (basit) cevap üretir - API hatası durumunda\"\"\"\n",
    "    \n",
    "    # Context'i birleştir\n",
    "    context = \"\\n\\n\".join(context_chunks)\n",
    "    \n",
    "    # Basit özetleme (ilk 500 karakter + query vurgulama)\n",
    "    answer = f\"\"\"İstanbul Bölge Planı belgesinde bulunan ilgili bilgiler:\n",
    "\n",
    "{context[:800]}...\n",
    "\n",
    "📌 Not: Bu cevap belge içeriğinden otomatik olarak çıkarılmıştır. Daha detaylı analiz için Gemini API'yi kullanabilirsiniz.\"\"\"\n",
    "    \n",
    "    return answer\n",
    "\n",
    "def rag_query(query, n_results=5, use_api=True):\n",
    "    \"\"\"Tam RAG pipeline - soru sor, cevap al\"\"\"\n",
    "    \n",
    "    print(f\"\\n❓ Soru: {query}\")\n",
    "    print(\"🔍 İlgili belgeler aranıyor...\")\n",
    "    \n",
    "    # 1. Retrieve: İlgili chunk'ları getir\n",
    "    relevant_chunks, chunk_ids = retrieve_relevant_chunks(query, n_results)\n",
    "    \n",
    "    print(f\"✅ {len(relevant_chunks)} ilgili belge bulundu\")\n",
    "    print(f\"📋 Chunk ID'ler: {chunk_ids}\")\n",
    "    \n",
    "    # 2. Generate: Cevap üret\n",
    "    print(\"🤖 Cevap oluşturuluyor...\")\n",
    "    \n",
    "    if use_api:\n",
    "        answer = generate_answer_with_gemini(query, relevant_chunks)\n",
    "    else:\n",
    "        answer = generate_answer_local(query, relevant_chunks)\n",
    "    \n",
    "    print(f\"\\n💬 CEVAP:\\n{answer}\")\n",
    "    \n",
    "    # İlgili chunk'ları da göster\n",
    "    print(f\"\\n📚 KAYNAK BELGELER:\")\n",
    "    for i, (chunk_id, chunk) in enumerate(zip(chunk_ids, relevant_chunks), 1):\n",
    "        print(f\"\\n[{i}] {chunk_id}\")\n",
    "        print(f\"{chunk[:200]}...\")\n",
    "    \n",
    "    return {\n",
    "        \"query\": query,\n",
    "        \"answer\": answer,\n",
    "        \"sources\": chunk_ids,\n",
    "        \"relevant_chunks\": relevant_chunks\n",
    "    }\n",
    "\n",
    "print(\"✅ RAG Pipeline hazır!\")\n",
    "print(\"💡 İpucu: use_api=False parametresi ile API olmadan çalışabilirsiniz\")"
   ]
  },
  {
   "cell_type": "code",
   "execution_count": 16,
   "id": "15329af6",
   "metadata": {},
   "outputs": [
    {
     "name": "stdout",
     "output_type": "stream",
     "text": [
      "\n",
      "================================================================================\n",
      "🧪 TEST SORULARI\n",
      "================================================================================\n",
      "\n",
      "❓ Soru: İstanbul bölge planının ana hedefleri nelerdir?\n",
      "🔍 İlgili belgeler aranıyor...\n",
      "✅ 3 ilgili belge bulundu\n",
      "📋 Chunk ID'ler: ['chunk_147', 'chunk_279', 'chunk_90']\n",
      "🤖 Cevap oluşturuluyor...\n",
      "⚠️ Gemini API hatası: 400 API Key not found. Please pass a valid API key. [reason: \"API_KEY_INVALID\"\n",
      "domain: \"googleapis.com\"\n",
      "metadata {\n",
      "  key: \"service\"\n",
      "  value: \"generativelanguage.googleapis.com\"\n",
      "}\n",
      ", locale: \"en-US\"\n",
      "message: \"API Key not found. Please pass a valid API key.\"\n",
      "]\n",
      "\n",
      "💬 CEVAP:\n",
      "İstanbul Bölge Planı belgesinde bulunan ilgili bilgiler:\n",
      "\n",
      "herkes için yüksek yaşam kalitesi sunan ,  \n",
      "dirençli  İstanbul  \n",
      "  45 Şekil 3. 2024 -2028 İstanbul Bölge Planı Vizyon Kavramsal Çerçevesi  \n",
      " \n",
      " \n",
      " \n",
      "2024 -2028 İstanbul Bölge Planı Vizyonunu destekleyen 5 stratejik öncelik ve 3 yatay kesen öncelik \n",
      "belirlenmiştir.  \n",
      " \n",
      "Stratejik Öncelikler;  \n",
      "1. Teknolojik Dönüşüm: İstanbul’da yaşamın ve tüm sektörlerin teknolojik dönüşümünün \n",
      "hızlandırılması  \n",
      "2. Yeşil Dönüşüm: İstanbul’un yeşil ekonomiye geçişini sağlayacak dönüşümünün hızlandırılması  \n",
      " 46 3. Dirençlilik: İstanbul’un afetlere karşı fiziksel , ekonomik , sosyal  ve kurumsal dirençliliğinin \n",
      "artırılması  \n",
      "4. Girişimcilik: İstanbul’un bölgenin ve dünyanın önde gelen küresel girişimcilik merkezlerinden biri \n",
      "haline getirilmesi  \n",
      "5. Yaratıcılık: Yaratıcı endüstrilerin İstanbul genelinde geliştir...\n",
      "\n",
      "📌 Not: Bu cevap belge içeriğinden otomatik olarak çıkarılmıştır. Daha detaylı analiz için Gemini API'yi kullanabilirsiniz.\n",
      "\n",
      "📚 KAYNAK BELGELER:\n",
      "\n",
      "[1] chunk_147\n",
      "herkes için yüksek yaşam kalitesi sunan ,  \n",
      "dirençli  İstanbul  \n",
      "  45 Şekil 3. 2024 -2028 İstanbul Bölge Planı Vizyon Kavramsal Çerçevesi  \n",
      " \n",
      " \n",
      " \n",
      "2024 -2028 İstanbul Bölge Planı Vizyonunu destekleyen ...\n",
      "\n",
      "[2] chunk_279\n",
      "aittir. AB İstanbul’un ihracat yaptığı tüm ülkeler arasında ilk sırada yer almaktadır, İstanbul ise Türkiye’de \n",
      "AB ile en çok ihracat yapan il durumundadır (TÜİK, 202 3).  \n",
      "SKDM kapsamında önceliklend...\n",
      "\n",
      "[3] chunk_90\n",
      "ebe sayısında ise İstanbul (3 07), Türkiye (34 3) ortalamasının altında kalmaktadır.  Türkiye genelinde 26 .928  \n",
      "ve İstanbul’da 4.96 9 aile hekimliği birimi bulunmaktadır. Aile Hekimliği Birimi başın...\n",
      "\n",
      "--------------------------------------------------------------------------------\n",
      "\n",
      "\n",
      "❓ Soru: Ulaşım altyapısı için neler planlanıyor?\n",
      "🔍 İlgili belgeler aranıyor...\n",
      "✅ 3 ilgili belge bulundu\n",
      "📋 Chunk ID'ler: ['chunk_152', 'chunk_726', 'chunk_248']\n",
      "🤖 Cevap oluşturuluyor...\n",
      "⚠️ Gemini API hatası: 400 API Key not found. Please pass a valid API key. [reason: \"API_KEY_INVALID\"\n",
      "domain: \"googleapis.com\"\n",
      "metadata {\n",
      "  key: \"service\"\n",
      "  value: \"generativelanguage.googleapis.com\"\n",
      "}\n",
      ", locale: \"en-US\"\n",
      "message: \"API Key not found. Please pass a valid API key.\"\n",
      "]\n",
      "\n",
      "💬 CEVAP:\n",
      "İstanbul Bölge Planı belgesinde bulunan ilgili bilgiler:\n",
      "\n",
      "sunan alanlardır . Plan kapsamında OSB’ler ve önemli sanayi alanlarının oluşturduğu Yeşil Dönüşüm \n",
      "Odakları  (Bkz. Harita 8)  başta olmak üzere, sanayi alanlarında yeşil dönüşümü sağlamak üzere istihdamın \n",
      "adaptasyonu, teknoloji geliştirilmesi, altyapının oluşturulması dahil kapasiteyi geliştirecek faaliyetler \n",
      "tanımlanmıştır.  \n",
      "İstanbul’daki girişimcilik ekosisteminin son senelerde önemli ilerlemeler kayde ttiği görülmektedir.  \n",
      "Uluslararası girişimcilik ekosistemleri arasında öne çıkmaya devam eden İstanbul’un, dünyanın önde gelen \n",
      "girişimcilik merkezlerinden biri haline getirilmesi Plan’ın stratejik önceliklerinden biridir. İstanbul’un \n",
      "merkezi iş alanında yoğunlaşan girişimcilik faaliyetlerinin Anadolu Yakası’na yayıldığı gözlemlenmektedir. \n",
      "Gerek yüksek işletme sayıları gerekse işletm...\n",
      "\n",
      "📌 Not: Bu cevap belge içeriğinden otomatik olarak çıkarılmıştır. Daha detaylı analiz için Gemini API'yi kullanabilirsiniz.\n",
      "\n",
      "📚 KAYNAK BELGELER:\n",
      "\n",
      "[1] chunk_152\n",
      "sunan alanlardır . Plan kapsamında OSB’ler ve önemli sanayi alanlarının oluşturduğu Yeşil Dönüşüm \n",
      "Odakları  (Bkz. Harita 8)  başta olmak üzere, sanayi alanlarında yeşil dönüşümü sağlamak üzere istihd...\n",
      "\n",
      "[2] chunk_726\n",
      "grup ilk etapta toplumun afet bilinci kazandırılması gereken tüm kesimleri gibi \n",
      "görülmekle beraber k adınlar, okuma -yazma bilmeyenler, çocuklar, yaşlılar, \n",
      "engelliler  gibi kırılgan gruplar hedef gr...\n",
      "\n",
      "[3] chunk_248\n",
      "hazırla nmıştır. Plan’da , 2050 yılına kadar karbon nötr hâle gelinmesi ve emisyonlarda 2019’daki 50,9 Mt \n",
      "CO 2’e baz yıl değerlerine kıyasla, 2030'a kadar %52'lik bir azalma elde edilmesi, iklim deği...\n",
      "\n",
      "--------------------------------------------------------------------------------\n",
      "\n",
      "\n",
      "❓ Soru: Yeşil alanlar ve çevre politikaları nelerdir?\n",
      "🔍 İlgili belgeler aranıyor...\n",
      "✅ 3 ilgili belge bulundu\n",
      "📋 Chunk ID'ler: ['chunk_32', 'chunk_248', 'chunk_625']\n",
      "🤖 Cevap oluşturuluyor...\n",
      "⚠️ Gemini API hatası: 400 API Key not found. Please pass a valid API key. [reason: \"API_KEY_INVALID\"\n",
      "domain: \"googleapis.com\"\n",
      "metadata {\n",
      "  key: \"service\"\n",
      "  value: \"generativelanguage.googleapis.com\"\n",
      "}\n",
      ", locale: \"en-US\"\n",
      "message: \"API Key not found. Please pass a valid API key.\"\n",
      "]\n",
      "\n",
      "💬 CEVAP:\n",
      "İstanbul Bölge Planı belgesinde bulunan ilgili bilgiler:\n",
      "\n",
      "boyutlarıyla anlamaya yönelik olarak elde edilen verinin analizini, farklı katılım yöntemleriyle İstanbul \n",
      "paydaşlarının katkılarının alınmasını, elde edilen bulgu ve değerlendirmeler ile geliştirilen öncelik ve \n",
      "hedeflerin bütünleştirmesine yönelik çalışmaları içermektedir. Bölge Planı hazırlık süreci aşamaları aşağıda \n",
      "görülmektedir.  \n",
      "1. Ön Politika ve Strateji Çalışmaları: İstanbul Kalkınma Ajansı tarafından 2014 -2023 İstanbul Bölge \n",
      "Planı’na  ilişkin belirlenmiş olan öncelikler doğrultusunda, başta girişimcilik ve yaratıcı endüstriler \n",
      "alanları olmak üzere, birçok katılımcı politika ve strateji geliştirme çalışması, araştırma, program ve \n",
      "proje hayata geçirilmiş ; bu süreçlere çok sayıda paydaş katılmıştır. Söz konusu çalışmaların çıktıları, \n",
      "2024 -2028 İstanbul Bölge Planı’na  öneml...\n",
      "\n",
      "📌 Not: Bu cevap belge içeriğinden otomatik olarak çıkarılmıştır. Daha detaylı analiz için Gemini API'yi kullanabilirsiniz.\n",
      "\n",
      "📚 KAYNAK BELGELER:\n",
      "\n",
      "[1] chunk_32\n",
      "boyutlarıyla anlamaya yönelik olarak elde edilen verinin analizini, farklı katılım yöntemleriyle İstanbul \n",
      "paydaşlarının katkılarının alınmasını, elde edilen bulgu ve değerlendirmeler ile geliştirilen...\n",
      "\n",
      "[2] chunk_248\n",
      "hazırla nmıştır. Plan’da , 2050 yılına kadar karbon nötr hâle gelinmesi ve emisyonlarda 2019’daki 50,9 Mt \n",
      "CO 2’e baz yıl değerlerine kıyasla, 2030'a kadar %52'lik bir azalma elde edilmesi, iklim deği...\n",
      "\n",
      "[3] chunk_625\n",
      "mekânlara çektiği için o mekânın çevresindeki ekonominin canlanmasına da önemli katkılar sunmaktadır. \n",
      "İstanbul genelinde gösteri sanatları ve diğer yaratıcı alanlara olan talebin artırılmasına yönel ...\n",
      "\n",
      "--------------------------------------------------------------------------------\n",
      "\n"
     ]
    }
   ],
   "source": [
    "# ============================================================================\n",
    "# BÖLÜM 9: TEST SORULARI\n",
    "# ============================================================================\n",
    "\n",
    "print(\"\\n\" + \"=\"*80)\n",
    "print(\"🧪 TEST SORULARI\")\n",
    "print(\"=\"*80)\n",
    "\n",
    "# Test Soruları\n",
    "test_queries = [\n",
    "    \"İstanbul bölge planının ana hedefleri nelerdir?\",\n",
    "    \"Ulaşım altyapısı için neler planlanıyor?\",\n",
    "    \"Yeşil alanlar ve çevre politikaları nelerdir?\",\n",
    "]\n",
    "\n",
    "results = []\n",
    "\n",
    "for query in test_queries:\n",
    "    result = rag_query(query, n_results=3)\n",
    "    results.append(result)\n",
    "    print(\"\\n\" + \"-\"*80 + \"\\n\")"
   ]
  },
  {
   "cell_type": "code",
   "execution_count": 17,
   "id": "f3e8759a",
   "metadata": {},
   "outputs": [
    {
     "name": "stdout",
     "output_type": "stream",
     "text": [
      "\n",
      "💾 Sonuçlar kaydediliyor...\n",
      "✅ Sonuçlar 'rag_results.json' dosyasına kaydedildi!\n"
     ]
    }
   ],
   "source": [
    "# ============================================================================\n",
    "# BÖLÜM 10: SONUÇLARI KAYDETME\n",
    "# ============================================================================\n",
    "\n",
    "print(\"\\n💾 Sonuçlar kaydediliyor...\")\n",
    "\n",
    "# Sonuçları JSON olarak kaydet\n",
    "with open(\"rag_results.json\", \"w\", encoding=\"utf-8\") as f:\n",
    "    json.dump(results, f, ensure_ascii=False, indent=2)\n",
    "\n",
    "print(\"✅ Sonuçlar 'rag_results.json' dosyasına kaydedildi!\")"
   ]
  },
  {
   "cell_type": "code",
   "execution_count": 18,
   "id": "397af6e8",
   "metadata": {},
   "outputs": [
    {
     "name": "stdout",
     "output_type": "stream",
     "text": [
      "\n",
      "================================================================================\n",
      "💬 İNTERAKTİF SORGULAMA MODU\n",
      "================================================================================\n",
      "Çıkmak için 'quit' yazın\n",
      "\n",
      "👋 Görüşmek üzere!\n"
     ]
    }
   ],
   "source": [
    "# ============================================================================\n",
    "# BÖLÜM 11: İNTERAKTİF SORGULAMA\n",
    "# ============================================================================\n",
    "\n",
    "print(\"\\n\" + \"=\"*80)\n",
    "print(\"💬 İNTERAKTİF SORGULAMA MODU\")\n",
    "print(\"=\"*80)\n",
    "print(\"Çıkmak için 'quit' yazın\\n\")\n",
    "\n",
    "while True:\n",
    "    user_query = input(\"🙋 Sorunuz: \")\n",
    "    \n",
    "    if user_query.lower() in ['quit', 'exit', 'çık', 'q']:\n",
    "        print(\"👋 Görüşmek üzere!\")\n",
    "        break\n",
    "    \n",
    "    if user_query.strip():\n",
    "        rag_query(user_query, n_results=3)\n",
    "    print(\"\\n\" + \"-\"*80 + \"\\n\")"
   ]
  },
  {
   "cell_type": "code",
   "execution_count": 19,
   "id": "d39b4ca0",
   "metadata": {},
   "outputs": [
    {
     "name": "stdout",
     "output_type": "stream",
     "text": [
      "\n",
      "================================================================================\n",
      "📊 PROJE İSTATİSTİKLERİ\n",
      "================================================================================\n",
      "\n",
      "PDF Bilgileri:\n",
      "  • Dosya: ../Data/2024-2028-İstanbul-bölge-planı-taslak.pdf\n",
      "  • Toplam Karakter: 714,440\n",
      "  • Toplam Kelime: 86,220\n",
      "\n",
      "Chunking:\n",
      "  • Chunk Sayısı: 875\n",
      "  • Chunk Boyutu: 1000 karakter\n",
      "  • Overlap: 200 karakter\n",
      "\n",
      "Vector Database:\n",
      "  • Sistem: ChromaDB\n",
      "  • Koleksiyon: istanbul_bolge_plani\n",
      "  • Kayıt Sayısı: 875\n",
      "\n",
      "Embedding:\n",
      "  • Model: Google embedding-001\n",
      "  • Boyut: 384\n",
      "\n",
      "Generation:\n",
      "  • Model: Gemini 1.5 Flash\n",
      "\n",
      "================================================================================\n",
      "✅ NOTEBOOK TAMAMLANDI!\n",
      "================================================================================\n"
     ]
    }
   ],
   "source": [
    "# ============================================================================\n",
    "# BÖLÜM 12: İSTATİSTİKLER VE ÖZETİ\n",
    "# ============================================================================\n",
    "\n",
    "print(\"\\n\" + \"=\"*80)\n",
    "print(\"📊 PROJE İSTATİSTİKLERİ\")\n",
    "print(\"=\"*80)\n",
    "\n",
    "stats = {\n",
    "    \"PDF Bilgileri\": {\n",
    "        \"Dosya\": PDF_PATH,\n",
    "        \"Toplam Karakter\": f\"{len(raw_text):,}\",\n",
    "        \"Toplam Kelime\": f\"{len(raw_text.split()):,}\"\n",
    "    },\n",
    "    \"Chunking\": {\n",
    "        \"Chunk Sayısı\": len(chunks),\n",
    "        \"Chunk Boyutu\": \"1000 karakter\",\n",
    "        \"Overlap\": \"200 karakter\"\n",
    "    },\n",
    "    \"Vector Database\": {\n",
    "        \"Sistem\": \"ChromaDB\",\n",
    "        \"Koleksiyon\": \"istanbul_bolge_plani\",\n",
    "        \"Kayıt Sayısı\": collection.count()\n",
    "    },\n",
    "    \"Embedding\": {\n",
    "        \"Model\": \"Google embedding-001\",\n",
    "        \"Boyut\": len(test_embedding)\n",
    "    },\n",
    "    \"Generation\": {\n",
    "        \"Model\": \"Gemini 1.5 Flash\"\n",
    "    }\n",
    "}\n",
    "\n",
    "for category, info in stats.items():\n",
    "    print(f\"\\n{category}:\")\n",
    "    for key, value in info.items():\n",
    "        print(f\"  • {key}: {value}\")\n",
    "\n",
    "print(\"\\n\" + \"=\"*80)\n",
    "print(\"✅ NOTEBOOK TAMAMLANDI!\")\n",
    "print(\"=\"*80)"
   ]
  },
  {
   "cell_type": "code",
   "execution_count": null,
   "id": "f26a0b6b",
   "metadata": {},
   "outputs": [],
   "source": []
  }
 ],
 "metadata": {
  "kernelspec": {
   "display_name": "Python 3",
   "language": "python",
   "name": "python3"
  },
  "language_info": {
   "codemirror_mode": {
    "name": "ipython",
    "version": 3
   },
   "file_extension": ".py",
   "mimetype": "text/x-python",
   "name": "python",
   "nbconvert_exporter": "python",
   "pygments_lexer": "ipython3",
   "version": "3.13.5"
  }
 },
 "nbformat": 4,
 "nbformat_minor": 5
}
